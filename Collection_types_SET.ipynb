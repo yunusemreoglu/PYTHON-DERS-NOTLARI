{
  "nbformat": 4,
  "nbformat_minor": 0,
  "metadata": {
    "colab": {
      "name": "Collection-types-SET.ipynb",
      "provenance": [],
      "collapsed_sections": [],
      "authorship_tag": "ABX9TyPgX1QMzhXh10G7e3/q3vev",
      "include_colab_link": true
    },
    "kernelspec": {
      "name": "python3",
      "display_name": "Python 3"
    },
    "language_info": {
      "name": "python"
    }
  },
  "cells": [
    {
      "cell_type": "markdown",
      "metadata": {
        "id": "view-in-github",
        "colab_type": "text"
      },
      "source": [
        "<a href=\"https://colab.research.google.com/github/yunusemreoglu/PYTHON-DERS-NOTLARI/blob/main/Collection_types_SET.ipynb\" target=\"_parent\"><img src=\"https://colab.research.google.com/assets/colab-badge.svg\" alt=\"Open In Colab\"/></a>"
      ]
    },
    {
      "cell_type": "code",
      "metadata": {
        "id": "XfcX4W1zI-_d"
      },
      "source": [
        "###############\"\"\"\"\"\"SET\"\"\"\"\"#################\n",
        "\n",
        "'''\n",
        "\n",
        "Küme, tekrarı olmayan ve ekleme sırası olmayan, ancak sıralı sıralı öğeler koleksiyonudur.\n",
        "\n",
        "Temel kullanımlar arasında üyelik testi ve yinelenen girişlerin ortadan kaldırılması yer alır. \n",
        "Set nesneleri ayrıca birleşim, kesişim, fark ve simetrik fark gibi matematiksel işlemleri de destekler.\n",
        "\n",
        "İçlerinde birden fazla veri tutabilirler, ancak yalnızca bir değeri vardır. Hangi sırayla dahil edildiklerinin değil, yalnızca bazı şeylerin bir arada gruplandırılmasının önemli olduğu durumlarda kullanılırlar.\n",
        "\n",
        "* Tekrara izin yok.\n",
        "* Matematiksel küme işlemlerini yapabiliriz. (repetition)\n",
        "  - union(birleşim)\n",
        "  - intersection(ortak eleman)\n",
        "  - difference (fark)\n",
        "* Sıralı değil. (unordered)\n",
        "\n",
        "-------------------------------------------------------------------------------\n",
        "\n",
        "creating a set:\n",
        "\n",
        " {}\n",
        " set()\n",
        "\n",
        "set_1 = {'red', 'blue', 'pink', 'red'}\n",
        "colors = 'red', 'blue', 'pink', 'red'\n",
        "set_2 = set(colors)\n",
        "print(set_1)\n",
        "print(set_2)\n",
        "\n",
        "{'blue', 'red', 'pink'}\n",
        "{'blue', 'red', 'pink'}\n",
        "--------------------------------------------------------------------------------\n",
        "\n",
        "letter = \"a b c d e f g h i k l m n o p r s t u v y z\".split()\n",
        "print(letter)\n",
        "\n",
        "['a', 'b', 'c', 'd', 'e', 'f', 'g', 'h', 'i', 'k', 'l', 'm', 'n', 'o', 'p', 'r', 's', 't', 'u', 'v', 'y', 'z']\n",
        "--------------------------------------------------------------------------------\n",
        "print(set(letter))\n",
        "\n",
        "{'m', 'p', 's', 't', 'n', 'b', 'a', 'd', 'k', 'i', 'l', 'f', 'z', 'g', 'r', 'u', 'v', 'c', 'e', 'y', 'o', 'h'}\n",
        "\n",
        "sıra değişti..\n",
        "\n",
        "--------------------------------------------------------------------------------\n",
        "test= {1, \"bir\", 1.0}                  ## set te 1 ve 1.0 aynı bunu unutma!!!!\n",
        "len(test)\n",
        "2\n",
        "--------------------------------------------------------------------------------\n",
        "a = {'carnation', 'orchid', 'rose', 'violet'}\n",
        "b = {'rose', 'orchid', 'rose', 'violet', 'carnation'}\n",
        "print(a)                                                       \n",
        "print(b)\n",
        "\n",
        "a == b\n",
        "len(a) == len(b)\n",
        "\n",
        "{'violet', 'carnation', 'rose', 'orchid'}\n",
        "{'violet', 'orchid', 'rose', 'carnation'}\n",
        "True\n",
        "True\n",
        "\n",
        "\n",
        "--------------------------------------------------------------------------------\n",
        "**boş bir set sadece set() fonk. ile oluşur. {} ' le olmaz. dict olur.\n",
        "--------------------------------------------------------------------------------\n",
        "\n",
        "dipnot = iterable = teker teker elemanlarına ayrılabilir, bölünebilir, işlenebilir.\n",
        "\n",
        "***lists, tuples, sets, str dict iterable'dir.\n",
        "***float ing bool iterable değil..\n",
        "--------------------------------------------------------------------------------\n",
        "Diğer methodlar:\n",
        "------------------------\n",
        "\n",
        ".add() : Adds a new item to the set. (sonuna eleman ekler)\n",
        "\n",
        ".remove() : Allows us to delete an item. (bir öğeyi silmemize izin verir.)\n",
        "\n",
        ".intersection() : Returns the intersection of two sets.(İki kümenin kesişimini döndürür. )\n",
        "\n",
        ".union() : Returns the unification of two sets. (İki kümenin birleşimini döndürür.)\n",
        "\n",
        ".difference() : Gets the difference of two sets. (İki kümenin farkını alır.)\n",
        "\n",
        "--------------------------------------------------------------------------------\n",
        "örnekler:\n",
        "\n",
        "\n",
        "a = set('abracadabra')\n",
        "b = set('alacazam')\n",
        "\n",
        "print(a - b)  # same as '.difference()' method     a nın b den farkını alıyoruz.\n",
        "print(a.difference(b)) # a difference from b\n",
        "\n",
        "{'b', 'd', 'r'}\n",
        "{'b', 'd', 'r'}\n",
        "\n",
        "--------------------------------------------------------------------------------\n",
        "\n",
        "a = set('abracadabra')\n",
        "b = set('alacazam')                     a ve b nin birleşimi..\n",
        "\n",
        "print(a | b)  # same as '.union()' method\n",
        "print(a.union(b)) # unification of a with b\n",
        "\n",
        "{'a', 'b', 'c', 'd', 'l', 'm', 'r', 'z'}\n",
        "{'a', 'b', 'c', 'd', 'l', 'm', 'r', 'z'}\n",
        "\n",
        "-------------------------------------------------------------------------------\n",
        "\n",
        "a = set('abracadabra')\n",
        "b = set('alacazam')                           a ve b nin kesişimi.\n",
        "\n",
        "print(a & b)  # same as '.intersection()' method\n",
        "print(a.intersection(b)) # intersection of a and b\n",
        "\n",
        "{'a', 'c'}\n",
        "{'a', 'c'}\n",
        "--------------------------------------------------------------------------------\n",
        "\n",
        "\n",
        "a =set(\"18/04/2021\")\n",
        "print(a)\n",
        "\n",
        "{'/', '0', '1', '2', '4', '8'}\n",
        "\n",
        "değişken = {\"18/04/2021\"}\n",
        "değişken\n",
        "\n",
        "{'18/04/2021'}\n",
        "--------------------------------------------------------------------------------\n",
        "\n",
        "\n",
        "\n",
        "\n",
        "\n",
        "\n",
        "\n",
        "\n",
        "\n",
        "\n",
        "\n",
        "\n",
        "\n",
        "\n",
        "\n",
        "\n",
        "\n",
        "\n",
        "\n",
        "\n",
        "\n",
        "\n",
        "\n",
        "\n",
        "\n",
        "\n",
        "\n",
        "\n",
        "\n",
        "\n",
        "\n",
        "\n",
        "\n",
        "'''\n"
      ],
      "execution_count": null,
      "outputs": []
    },
    {
      "cell_type": "code",
      "metadata": {
        "colab": {
          "base_uri": "https://localhost:8080/"
        },
        "id": "eiBR2Kc4rTt5",
        "outputId": "6a6a15b3-f04b-4041-cdd5-e6d8f3806a33"
      },
      "source": [
        "print(set('listen to the voice of enlisted'))\n"
      ],
      "execution_count": 4,
      "outputs": [
        {
          "output_type": "stream",
          "text": [
            "{'t', ' ', 'c', 'h', 'i', 'n', 'f', 'e', 'v', 'o', 'd', 's', 'l'}\n"
          ],
          "name": "stdout"
        }
      ]
    },
    {
      "cell_type": "code",
      "metadata": {
        "colab": {
          "base_uri": "https://localhost:8080/"
        },
        "id": "PknQfu6cqaFZ",
        "outputId": "5c52e394-6008-4059-b5fe-7462ea80f953"
      },
      "source": [
        "set(\"18/04/2021\")"
      ],
      "execution_count": 1,
      "outputs": [
        {
          "output_type": "execute_result",
          "data": {
            "text/plain": [
              "{'/', '0', '1', '2', '4', '8'}"
            ]
          },
          "metadata": {
            "tags": []
          },
          "execution_count": 1
        }
      ]
    },
    {
      "cell_type": "code",
      "metadata": {
        "colab": {
          "base_uri": "https://localhost:8080/"
        },
        "id": "C_T56r9_qrba",
        "outputId": "25c12e57-eb7b-4b53-c257-16d50ea51d35"
      },
      "source": [
        "değişken = {\"18/04/2021\"}\n",
        "değişken"
      ],
      "execution_count": 2,
      "outputs": [
        {
          "output_type": "execute_result",
          "data": {
            "text/plain": [
              "{'18/04/2021'}"
            ]
          },
          "metadata": {
            "tags": []
          },
          "execution_count": 2
        }
      ]
    },
    {
      "cell_type": "code",
      "metadata": {
        "colab": {
          "base_uri": "https://localhost:8080/"
        },
        "id": "ifWclyD8NrVS",
        "outputId": "646f1504-1dbf-4b1f-d8e5-1d513b8507b9"
      },
      "source": [
        "set_1 = {'red', 'blue', 'pink', 'red'}\n",
        "colors = 'red', 'blue', 'pink', 'red'\n",
        "set_2 = set(colors)\n",
        "print(set_1)\n",
        "print(set_2)"
      ],
      "execution_count": null,
      "outputs": [
        {
          "output_type": "stream",
          "text": [
            "{'blue', 'red', 'pink'}\n",
            "{'blue', 'red', 'pink'}\n"
          ],
          "name": "stdout"
        }
      ]
    }
  ]
}
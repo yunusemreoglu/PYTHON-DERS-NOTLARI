{
  "nbformat": 4,
  "nbformat_minor": 0,
  "metadata": {
    "colab": {
      "name": "Assignmentlar-ve-Çözümleri.ipynb",
      "provenance": [],
      "collapsed_sections": [],
      "authorship_tag": "ABX9TyPyWqZNQNaECXksxIYn5xIa",
      "include_colab_link": true
    },
    "kernelspec": {
      "name": "python3",
      "display_name": "Python 3"
    },
    "language_info": {
      "name": "python"
    }
  },
  "cells": [
    {
      "cell_type": "markdown",
      "metadata": {
        "id": "view-in-github",
        "colab_type": "text"
      },
      "source": [
        "<a href=\"https://colab.research.google.com/github/yunusemreoglu/PYTHON-DERS-NOTLARI/blob/main/Assignmentlar_ve_%C3%87%C3%B6z%C3%BCmleri.ipynb\" target=\"_parent\"><img src=\"https://colab.research.google.com/assets/colab-badge.svg\" alt=\"Open In Colab\"/></a>"
      ]
    },
    {
      "cell_type": "code",
      "metadata": {
        "id": "xXsJEBdugC_H"
      },
      "source": [
        "'''\n",
        "Problem : If you had deposited a coin on the cryptocurrency exchange that \n",
        "brought 7% fixed profit daily for a week, how much would your $ 1000 \n",
        "reach at the end of the 7th day?\n",
        "\n",
        "para = 1000\n",
        "para = para * 0.07 + para (1.gün) bunu şu şekildede yazabilirsin.. para += para *0.07\n",
        "para += para *0.07 (2.gün)\n",
        "para += para *0.07 (3.gün)\n",
        "para += para *0.07 (4.gün)\n",
        "para += para *0.07 (5.gün)\n",
        "para += para *0.07 (6.gün)\n",
        "para += para *0.07 (7.gün)\n",
        "\n",
        "print(para) = 1605.781.....    bu uzun yol..\n",
        "\n",
        "para = para * (1 + 0.07)     or     para = para * 1.07     1.günün sonu\n",
        "para = (para * 1.07) *1.07                                 2.günün sonu\n",
        "para = (para * 1.07 * 1.07) * 1.07                         3.günün sonu\n",
        "//\n",
        "// \n",
        "..\n",
        "para= para * (1.07 ** 7)                                    7.günün sonu\n",
        "\n",
        "\n",
        "\n",
        "önce bi kağıtta bak soruya pseudo kod ... sonra tek satırda hallet.....\n",
        "\n",
        "-----------------------------------------------------------------------------------\n",
        "\n",
        "\n",
        "Task : Estimating the risk of death from coronavirus.\n",
        "\n",
        "Consider the following questions in terms of True/False regarding anyone else.\n",
        "\n",
        "Are you a cigarette addict older than 75 years old? Variable → age\n",
        "\n",
        "Do you have a severe chronic disease? Variable → chronic\n",
        "\n",
        "Is your immune system too weak? Variable → immune\n",
        "\n",
        "Set a logical algorithm using boolean logic operators (and/or)\n",
        " and the given variables in order to give us True (there is a risk of death) \n",
        " or False (there is not a risk of death) as a result.\n",
        "\n",
        "age =  # can be assigned only True/False\n",
        "chronic =  # can be assigned only True/False\n",
        "immune =  # can be assigned only True/False\n",
        "risk = ? (True or False)\n",
        "\n",
        "\n",
        "\n",
        "age = True\n",
        "chronic = False\n",
        "immune = False\n",
        "risk = age or chronic or immune \n",
        "\n",
        "\n",
        "Buradaki soruda risk i True yapmaya çalıştık..\n",
        "\n",
        "\n",
        "--------------------------------------------------------------------------------\n",
        "\n",
        "\n",
        "\n",
        "\n",
        "\n",
        "\n",
        "\n",
        "\n",
        "\n",
        "\n",
        "\n",
        "\n",
        "\n",
        "\n",
        "\n",
        "\n",
        "\n",
        "\n",
        "\n",
        "'''"
      ],
      "execution_count": null,
      "outputs": []
    }
  ]
}
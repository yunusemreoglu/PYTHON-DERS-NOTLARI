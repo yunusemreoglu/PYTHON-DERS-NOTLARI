{
  "nbformat": 4,
  "nbformat_minor": 0,
  "metadata": {
    "colab": {
      "name": "Collection-types-Tuple-ipynb",
      "provenance": [],
      "collapsed_sections": [],
      "authorship_tag": "ABX9TyOfqP8dcjy7H7ZWk0nwXNSb",
      "include_colab_link": true
    },
    "kernelspec": {
      "name": "python3",
      "display_name": "Python 3"
    },
    "language_info": {
      "name": "python"
    }
  },
  "cells": [
    {
      "cell_type": "markdown",
      "metadata": {
        "id": "view-in-github",
        "colab_type": "text"
      },
      "source": [
        "<a href=\"https://colab.research.google.com/github/yunusemreoglu/PYTHON-DERS-NOTLARI/blob/main/Collection_types_Tuple_ipynb.ipynb\" target=\"_parent\"><img src=\"https://colab.research.google.com/assets/colab-badge.svg\" alt=\"Open In Colab\"/></a>"
      ]
    },
    {
      "cell_type": "code",
      "metadata": {
        "id": "J1uXEVCSi0gp"
      },
      "source": [
        "\n",
        "\n",
        "#################\"\"\"\"\"\"\"\"\"\"\"\"\"TUPLE\"\"\"\"\"\"\"\"\"#####################\n",
        "'''\n",
        "Tuples:\n",
        "\n",
        "\n",
        "What is the difference between list and tuple?\n",
        "LISTs :\n",
        "\n",
        "Lists are mutable i.e they can be edited.\n",
        "Lists are slower than tuples.\n",
        "Syntax: list_1 = [True, ‘Space’, 20]\n",
        "\n",
        "TUPLEs :\n",
        "Tuples are immutable (tuples are lists which can’t be edited).\n",
        "Tuples are faster than list.\n",
        "Syntax: tup_1 = (True, ‘Space’ , 20)\n",
        "----------------------------------------------------------------------\n",
        "\n",
        "**Tuple'lar genellikle IP adresi ve bağlantı noktası gibi değiştirilmesi\n",
        " gerekmeyenküçük değer koleksiyonları için kullanılır. Değişmemiş verilerimiz\n",
        "  varsa,listelerden çok daha hızlı olduğu için tupleları seçmeliyiz.\n",
        "--------------------------------------\n",
        "** tupleler değiştirilemediği için, arkasında çalışan fazla fonk. ve method\n",
        "olmadığı için daha hızlıdır.\n",
        "--------------------------------------\n",
        "Creating tuple:\n",
        "boş tuple:\n",
        "\n",
        "* ()\n",
        "* tuple()              şeklinde olur.  iterable olanları tuple yapabiliyoruz unutma!\n",
        "------------------------------------------------------------------------\n",
        "\n",
        "benim = [\"a\",\"b\",\"c\"]\n",
        "ben = tuple(benim)                list'i tupleye çevirdik.\n",
        "('a','b','c')\n",
        "\n",
        "-------------------------------------------------------\n",
        "\n",
        "try_tuple = ('love')\n",
        "\n",
        "print(try_tuple)\n",
        "\n",
        "print(type(try_tuple)) # it's not tuple type.\n",
        "\n",
        "love\n",
        "<class 'str'>\n",
        "\n",
        "---------------------------------------------------------- alt alta iki örneği\n",
        "                                                          iyi incele.\n",
        "\n",
        "try_tuple = ('love',)\n",
        "\n",
        "print(try_tuple)\n",
        "\n",
        "print(type(try_tuple)) # it's a tuple type.\n",
        "\n",
        "('love',)\n",
        "<class 'tuple'>\n",
        "----------------------------------------------------------\n",
        "\n",
        " \n",
        "my_tuple=(1, 4, 3, 4, 5, 6, 7, 4)\n",
        "\n",
        "my_list = list(my_tuple)\n",
        "\n",
        "print(type(my_list), my_list)\n",
        "\n",
        "\n",
        "<class 'list'> [1, 4, 3, 4, 5, 6, 7, 4]\n",
        "------------------------------------------------------------\n",
        "my_list = [1, 4, 3, 4, 5, 6, 7, 4]\n",
        "\n",
        "my_tuple = tuple(my_list)\n",
        "\n",
        "print(type(my_tuple), my_tuple)\n",
        "\n",
        "<class 'tuple'> (1, 4, 3, 4, 5, 6, 7, 4)\n",
        "------------------------------------------------------------------\n",
        "\n",
        "mountain = tuple('Alps')\n",
        "print(mountain) \n",
        "\n",
        "('A', 'l', 'p', 's')\n",
        "-----------------------------------------------------------------\n",
        "indexleme ; aynı listelerdeki gibi.\n",
        "\n",
        "even_no = (0, 2, 4)\n",
        "print(even_no[0])    \n",
        "print(even_no[1])    \n",
        "print(even_no[2])   \n",
        "print(even_no[3])  \n",
        "\n",
        "0\n",
        "2\n",
        "4\n",
        "------------------\n",
        "print(even_no[3]) : IndexError: tuple index out of range\n",
        "-------------------------------------------------------------------\n",
        "\n",
        "** Tuple'ların listelerden en önemli farklarından biri de 'tuple'\n",
        " nesnesinin öğe atamasını desteklememesidir. Evet, çünkü tuple değişmezdir..\n",
        "\n",
        "örnek:\n",
        "----------------\n",
        "\n",
        "city_list = ['Tokyo', 'Istanbul', 'Moskow', 'Dublin']\n",
        "\n",
        "city_tuple = tuple(city_list)\n",
        "\n",
        "city_tuple[0] = 'New York'  # you can't assign a value\n",
        "\n",
        "\n",
        "TypeError: 'tuple' object does not support item assignment\n",
        "\n",
        "\n",
        "****tuple içerisine herhangi bir liste var ise o listeye eleman ekleyebilirsin!.\n",
        "\n",
        "\n",
        "\n",
        "\n",
        "--------------------------------------------------------------------\n",
        "\n",
        "Değişmezliğin Faydaları\n",
        "Demetlerin temel avantajlarına bir göz atalım:\n",
        "\n",
        "Tuple'lar, listelerden daha hızlı ve daha güçlü bellek içidir.\n",
        "Ne zaman büyük miktarda veriyle uğraşmanız gerektiğinde bunu düşünmelisiniz.\n",
        "Verilerinizi değiştirmek istemiyorsanız, demetleri seçmeniz gerekebilir.\n",
        "\n",
        "Değişmezliği nedeniyle, bir demet içinde depolanan veriler yanlışlıkla değiştirilemez.\n",
        "\n",
        " ---------------------------------------------------------------\n",
        "\n",
        "\n",
        "\n",
        "\n",
        "\n",
        "\n",
        "\n",
        "\n",
        "\n",
        "\n",
        "\n",
        "\n",
        "\n",
        "\n",
        "\n",
        "\n",
        "\n",
        "\n",
        "\n",
        "\n",
        "\n",
        "\n",
        "\n",
        "\n",
        "\n",
        "\n",
        "\n",
        "\n",
        "\n",
        "\n",
        "\n",
        "\n",
        "\n",
        "\n",
        "\n",
        "'''\n"
      ],
      "execution_count": null,
      "outputs": []
    },
    {
      "cell_type": "code",
      "metadata": {
        "colab": {
          "base_uri": "https://localhost:8080/"
        },
        "id": "CsjrTScjnCMZ",
        "outputId": "a30ed7e0-1d15-410a-8f05-ab212e9404c3"
      },
      "source": [
        "harf= \"abcdefghij\".split()\n",
        "harf"
      ],
      "execution_count": null,
      "outputs": [
        {
          "output_type": "execute_result",
          "data": {
            "text/plain": [
              "['abcdefghij']"
            ]
          },
          "metadata": {
            "tags": []
          },
          "execution_count": 1
        }
      ]
    },
    {
      "cell_type": "code",
      "metadata": {
        "colab": {
          "base_uri": "https://localhost:8080/"
        },
        "id": "Z6w0apeonRGz",
        "outputId": "054aef18-7fe0-4927-dbef-2257275618ee"
      },
      "source": [
        "harf= \"a b c d e f g h i j\".split()         # boşluğa göre bölüyor dikkat et.\n",
        "harf"
      ],
      "execution_count": null,
      "outputs": [
        {
          "output_type": "execute_result",
          "data": {
            "text/plain": [
              "['a', 'b', 'c', 'd', 'e', 'f', 'g', 'h', 'i', 'j']"
            ]
          },
          "metadata": {
            "tags": []
          },
          "execution_count": 2
        }
      ]
    },
    {
      "cell_type": "code",
      "metadata": {
        "colab": {
          "base_uri": "https://localhost:8080/"
        },
        "id": "NMh3fNb9nU1h",
        "outputId": "45fa384b-ccf4-49eb-cd0f-d052e3b22025"
      },
      "source": [
        "harf= \"abcdefghij\".split('/')\n",
        "harf "
      ],
      "execution_count": null,
      "outputs": [
        {
          "output_type": "execute_result",
          "data": {
            "text/plain": [
              "['abcdefghij']"
            ]
          },
          "metadata": {
            "tags": []
          },
          "execution_count": 6
        }
      ]
    },
    {
      "cell_type": "code",
      "metadata": {
        "colab": {
          "base_uri": "https://localhost:8080/"
        },
        "id": "QWV11Z2UoZ5d",
        "outputId": "f2061c82-3505-47c6-c5b5-fd93f2581c2a"
      },
      "source": [
        "harf= \"a-b-c-d-e-f-g-h-i-j\"\n",
        "h2 = list(harf)\n",
        "print(h2)"
      ],
      "execution_count": null,
      "outputs": [
        {
          "output_type": "stream",
          "text": [
            "['a', '-', 'b', '-', 'c', '-', 'd', '-', 'e', '-', 'f', '-', 'g', '-', 'h', '-', 'i', '-', 'j']\n"
          ],
          "name": "stdout"
        }
      ]
    },
    {
      "cell_type": "code",
      "metadata": {
        "colab": {
          "base_uri": "https://localhost:8080/"
        },
        "id": "thJLvwOJnZt5",
        "outputId": "544714b3-2533-4252-d80f-a02182443b3c"
      },
      "source": [
        "harf= \"a-b-c-d-e-f-g-h-i-j\".split('-')    # - lere göre bçl dedik dikkat et.\n",
        "harf"
      ],
      "execution_count": null,
      "outputs": [
        {
          "output_type": "execute_result",
          "data": {
            "text/plain": [
              "['a', 'b', 'c', 'd', 'e', 'f', 'g', 'h', 'i', 'j']"
            ]
          },
          "metadata": {
            "tags": []
          },
          "execution_count": 7
        }
      ]
    },
    {
      "cell_type": "code",
      "metadata": {
        "colab": {
          "base_uri": "https://localhost:8080/"
        },
        "id": "5vPmnodcngap",
        "outputId": "012ecaa6-cca2-4baa-9dcc-bd3961afad40"
      },
      "source": [
        "harf= \"a,b,c,d,e,f,g,h,i,j\".split(',')\n",
        "harf"
      ],
      "execution_count": null,
      "outputs": [
        {
          "output_type": "execute_result",
          "data": {
            "text/plain": [
              "['a', 'b', 'c', 'd', 'e', 'f', 'g', 'h', 'i', 'j']"
            ]
          },
          "metadata": {
            "tags": []
          },
          "execution_count": 8
        }
      ]
    },
    {
      "cell_type": "code",
      "metadata": {
        "colab": {
          "base_uri": "https://localhost:8080/"
        },
        "id": "njDz2UmwoTsL",
        "outputId": "675bcbce-0b3c-40d9-c600-3864b74bf5ef"
      },
      "source": [
        "sehirler = ['tokyo','addis ababa','rome','rio','istanbul']\n",
        "sorted(sehirler)"
      ],
      "execution_count": null,
      "outputs": [
        {
          "output_type": "execute_result",
          "data": {
            "text/plain": [
              "['addis ababa', 'istanbul', 'rio', 'rome', 'tokyo']"
            ]
          },
          "metadata": {
            "tags": []
          },
          "execution_count": 11
        }
      ]
    },
    {
      "cell_type": "code",
      "metadata": {
        "colab": {
          "base_uri": "https://localhost:8080/"
        },
        "id": "RWEUJfwYqAOk",
        "outputId": "2d187307-611c-43f1-ffa0-e158fd527f75"
      },
      "source": [
        "sorted(sehirler, key = len)\n"
      ],
      "execution_count": null,
      "outputs": [
        {
          "output_type": "execute_result",
          "data": {
            "text/plain": [
              "['rio', 'rome', 'tokyo', 'istanbul', 'addis ababa']"
            ]
          },
          "metadata": {
            "tags": []
          },
          "execution_count": 14
        }
      ]
    },
    {
      "cell_type": "code",
      "metadata": {
        "colab": {
          "base_uri": "https://localhost:8080/"
        },
        "id": "nYROoz-QrH_M",
        "outputId": "ce9fd671-cf19-4c47-805e-8ef66a8131e5"
      },
      "source": [
        "sorted(sehirler, key = len, reverse = True)"
      ],
      "execution_count": null,
      "outputs": [
        {
          "output_type": "execute_result",
          "data": {
            "text/plain": [
              "['addis ababa', 'istanbul', 'tokyo', 'rome', 'rio']"
            ]
          },
          "metadata": {
            "tags": []
          },
          "execution_count": 15
        }
      ]
    },
    {
      "cell_type": "code",
      "metadata": {
        "colab": {
          "base_uri": "https://localhost:8080/"
        },
        "id": "hnLOYqC3rOUw",
        "outputId": "99abc73e-5844-47a6-9f93-8044107d2a9d"
      },
      "source": [
        "sehirler"
      ],
      "execution_count": null,
      "outputs": [
        {
          "output_type": "execute_result",
          "data": {
            "text/plain": [
              "['tokyo', 'addis ababa', 'rome', 'rio', 'istanbul']"
            ]
          },
          "metadata": {
            "tags": []
          },
          "execution_count": 16
        }
      ]
    },
    {
      "cell_type": "code",
      "metadata": {
        "colab": {
          "base_uri": "https://localhost:8080/"
        },
        "id": "U9s3DLJfrW7f",
        "outputId": "3e883738-9d92-4ef0-f30f-21f67c6a1fdd"
      },
      "source": [
        "sehirler.sort(key = len,)\n",
        "sehirler                                                  #şehirler yerinde değişti unutma.!"
      ],
      "execution_count": null,
      "outputs": [
        {
          "output_type": "execute_result",
          "data": {
            "text/plain": [
              "['rio', 'rome', 'tokyo', 'istanbul', 'addis ababa']"
            ]
          },
          "metadata": {
            "tags": []
          },
          "execution_count": 18
        }
      ]
    },
    {
      "cell_type": "code",
      "metadata": {
        "colab": {
          "base_uri": "https://localhost:8080/"
        },
        "id": "2K6hVi6srif_",
        "outputId": "17bba7a7-8f4c-4ac3-d644-ac6287d1c84d"
      },
      "source": [
        "sehirler.sort(key = len, reverse= True)\n",
        "sehirler"
      ],
      "execution_count": null,
      "outputs": [
        {
          "output_type": "execute_result",
          "data": {
            "text/plain": [
              "['addis ababa', 'istanbul', 'tokyo', 'rome', 'rio']"
            ]
          },
          "metadata": {
            "tags": []
          },
          "execution_count": 20
        }
      ]
    },
    {
      "cell_type": "code",
      "metadata": {
        "colab": {
          "base_uri": "https://localhost:8080/"
        },
        "id": "4gt5_03UrpIp",
        "outputId": "234f2e46-1251-4894-d803-e5de62240834"
      },
      "source": [
        "sehirler\n"
      ],
      "execution_count": null,
      "outputs": [
        {
          "output_type": "execute_result",
          "data": {
            "text/plain": [
              "['addis ababa', 'istanbul', 'tokyo', 'rome', 'rio']"
            ]
          },
          "metadata": {
            "tags": []
          },
          "execution_count": 21
        }
      ]
    },
    {
      "cell_type": "code",
      "metadata": {
        "colab": {
          "base_uri": "https://localhost:8080/"
        },
        "id": "qVra-BtIrspm",
        "outputId": "62bfee78-176a-4f12-c195-472e0c694c39"
      },
      "source": [
        "a = tuple(range(1,11))\n",
        "print(type(a), a)"
      ],
      "execution_count": null,
      "outputs": [
        {
          "output_type": "stream",
          "text": [
            "<class 'tuple'> (1, 2, 3, 4, 5, 6, 7, 8, 9, 10)\n"
          ],
          "name": "stdout"
        }
      ]
    },
    {
      "cell_type": "code",
      "metadata": {
        "id": "slXWC6EMwWQj"
      },
      "source": [
        ""
      ],
      "execution_count": null,
      "outputs": []
    }
  ]
}